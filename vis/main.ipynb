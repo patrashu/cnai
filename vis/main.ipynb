{
 "cells": [
  {
   "cell_type": "code",
   "execution_count": 2,
   "metadata": {},
   "outputs": [],
   "source": [
    "import cv2\n",
    "import matplotlib.pyplot as plt"
   ]
  },
  {
   "cell_type": "code",
   "execution_count": 6,
   "metadata": {},
   "outputs": [],
   "source": [
    "path = \"./object_tracking/assets/ch03_cut.mp4\"\n",
    "cap = cv2.VideoCapture(path)\n",
    "\n",
    "while cap.isOpened():\n",
    "    s, frame = cap.read()\n",
    "\n",
    "    if s:\n",
    "        cv2.imwrite(\"sibal.jpg\", frame)\n",
    "        break"
   ]
  },
  {
   "cell_type": "code",
   "execution_count": 10,
   "metadata": {},
   "outputs": [
    {
     "name": "stdout",
     "output_type": "stream",
     "text": [
      "514 532\n",
      "1187 521\n",
      "54 1254\n",
      "1503 1254\n"
     ]
    },
    {
     "ename": "KeyboardInterrupt",
     "evalue": "",
     "output_type": "error",
     "traceback": [
      "\u001b[1;31m---------------------------------------------------------------------------\u001b[0m",
      "\u001b[1;31mKeyboardInterrupt\u001b[0m                         Traceback (most recent call last)",
      "Cell \u001b[1;32mIn[10], line 11\u001b[0m, in \u001b[0;36monMouse\u001b[1;34m(event, x, y, flags, param)\u001b[0m\n\u001b[0;32m      8\u001b[0m pts_cnt \u001b[39m=\u001b[39m \u001b[39m0\u001b[39m\n\u001b[0;32m      9\u001b[0m pts \u001b[39m=\u001b[39m np\u001b[39m.\u001b[39mzeros((\u001b[39m4\u001b[39m,\u001b[39m2\u001b[39m), dtype\u001b[39m=\u001b[39mnp\u001b[39m.\u001b[39mfloat32)\n\u001b[1;32m---> 11\u001b[0m \u001b[39mdef\u001b[39;00m \u001b[39monMouse\u001b[39m(event, x, y, flags, param):  \u001b[39m#마우스 이벤트 콜백 함수 구현 ---① \u001b[39;00m\n\u001b[0;32m     12\u001b[0m     \u001b[39mglobal\u001b[39;00m  pts_cnt                     \u001b[39m# 마우스로 찍은 좌표의 갯수 저장\u001b[39;00m\n\u001b[0;32m     13\u001b[0m     \u001b[39mif\u001b[39;00m event \u001b[39m==\u001b[39m cv2\u001b[39m.\u001b[39mEVENT_LBUTTONDOWN:  \n",
      "\u001b[1;31mKeyboardInterrupt\u001b[0m: "
     ]
    }
   ],
   "source": [
    "import cv2\n",
    "import numpy as np\n",
    "\n",
    "win_name = \"scanning\"\n",
    "img = cv2.imread(\"sibal.jpg\")\n",
    "rows, cols = img.shape[:2]\n",
    "draw = img.copy()\n",
    "pts_cnt = 0\n",
    "pts = np.zeros((4,2), dtype=np.float32)\n",
    "\n",
    "def onMouse(event, x, y, flags, param):  #마우스 이벤트 콜백 함수 구현 ---① \n",
    "    global  pts_cnt                     # 마우스로 찍은 좌표의 갯수 저장\n",
    "    if event == cv2.EVENT_LBUTTONDOWN:  \n",
    "        cv2.circle(draw, (x,y), 10, (0,255,0), -1) # 좌표에 초록색 동그라미 표시\n",
    "        cv2.imshow(win_name, draw)\n",
    "        print(x, y)\n",
    "\n",
    "        pts[pts_cnt] = [x,y]            # 마우스 좌표 저장\n",
    "        pts_cnt+=1\n",
    "        if pts_cnt == 4:                       # 좌표가 4개 수집됨 \n",
    "            # 좌표 4개 중 상하좌우 찾기 ---② \n",
    "            sm = pts.sum(axis=1)                 # 4쌍의 좌표 각각 x+y 계산\n",
    "            diff = np.diff(pts, axis = 1)       # 4쌍의 좌표 각각 x-y 계산\n",
    "\n",
    "            topLeft = pts[np.argmin(sm)]  # x+y가 가장 값이 좌상단 좌표\n",
    "            bottomRight = pts[np.argmax(sm)]     # x+y가 가장 큰 값이 우하단 좌표\n",
    "            topRight = pts[np.argmin(diff)]     # x-y가 가장 작은 것이 우상단 좌표\n",
    "            bottomLeft = pts[np.argmax(diff)]   # x-y가 가장 큰 값이 좌하단 좌표\n",
    "\n",
    "            # 변환 전 4개 좌표 \n",
    "            pts1 = np.float32([topLeft, topRight, bottomRight , bottomLeft])\n",
    "            \n",
    "            # 변환 후 영상에 사용할 서류의 폭과 높이 계산 ---③ \n",
    "            w1 = abs(bottomRight[0] - bottomLeft[0])    # 상단 좌우 좌표간의 거리\n",
    "            w2 = abs(topRight[0] - topLeft[0])          # 하당 좌우 좌표간의 거리\n",
    "            h1 = abs(topRight[1] - bottomRight[1])      # 우측 상하 좌표간의 거리\n",
    "            h2 = abs(topLeft[1] - bottomLeft[1])        # 좌측 상하 좌표간의 거리\n",
    "            width = max([w1, w2])                       # 두 좌우 거리간의 최대값이 서류의 폭\n",
    "            height = max([h1, h2])                      # 두 상하 거리간의 최대값이 서류의 높이\n",
    "            \n",
    "            # 변환 후 4개 좌표\n",
    "            pts2 = np.float32([[0,0], [width-1,0], \n",
    "                                [width-1,height-1], [0,height-1]])\n",
    "            \n",
    "            # 변환 행렬 계산 \n",
    "            mtrx = cv2.getPerspectiveTransform(pts1, pts2)\n",
    "            # 원근 변환 적용\n",
    "            result = cv2.warpPerspective(img, mtrx, (int(width), int(height)))\n",
    "            cv2.imshow('scanned', result)\n",
    "\n",
    "cv2.imshow(win_name, img)\n",
    "cv2.setMouseCallback(win_name, onMouse)    # 마우스 콜백 함수를 GUI 윈도우에 등록 ---④\n",
    "cv2.waitKey(0)\n",
    "cv2.destroyAllWindows()"
   ]
  },
  {
   "cell_type": "code",
   "execution_count": 17,
   "metadata": {},
   "outputs": [
    {
     "name": "stdout",
     "output_type": "stream",
     "text": [
      "519 62\n",
      "89 1271\n",
      "1532 1304\n",
      "1114 74\n",
      "[[ 519.   62.]\n",
      " [1114.   74.]\n",
      " [1532. 1304.]\n",
      " [  89. 1271.]]\n",
      "1443.0 1230.0\n"
     ]
    }
   ],
   "source": [
    "import cv2\n",
    "import numpy as np\n",
    "\n",
    "win_name = \"scanning\"\n",
    "img = cv2.imread(\"sibal.jpg\")\n",
    "rows, cols = img.shape[:2]\n",
    "draw = img.copy()\n",
    "pts_cnt = 0\n",
    "pts = np.zeros((4,2), dtype=np.float32)\n",
    "\n",
    "def onMouse(event, x, y, flags, param):  #마우스 이벤트 콜백 함수 구현 ---① \n",
    "    global  pts_cnt                     # 마우스로 찍은 좌표의 갯수 저장\n",
    "    if event == cv2.EVENT_LBUTTONDOWN:  \n",
    "        cv2.circle(draw, (x,y), 10, (0,255,0), -1) # 좌표에 초록색 동그라미 표시\n",
    "        cv2.imshow(win_name, draw)\n",
    "        print(x, y)\n",
    "\n",
    "        pts[pts_cnt] = [x,y]            # 마우스 좌표 저장\n",
    "        pts_cnt+=1\n",
    "        if pts_cnt == 4:                       # 좌표가 4개 수집됨 \n",
    "            # 좌표 4개 중 상하좌우 찾기 ---② \n",
    "            sm = pts.sum(axis=1)                 # 4쌍의 좌표 각각 x+y 계산\n",
    "            diff = np.diff(pts, axis = 1)       # 4쌍의 좌표 각각 x-y 계산\n",
    "\n",
    "            topLeft = pts[np.argmin(sm)]         # x+y가 가장 값이 좌상단 좌표\n",
    "            bottomRight = pts[np.argmax(sm)]     # x+y가 가장 큰 값이 우하단 좌표\n",
    "            topRight = pts[np.argmin(diff)]     # x-y가 가장 작은 것이 우상단 좌표\n",
    "            bottomLeft = pts[np.argmax(diff)]   # x-y가 가장 큰 값이 좌하단 좌표\n",
    "\n",
    "            # 변환 전 4개 좌표 \n",
    "            pts1 = np.float32([topLeft, topRight, bottomRight , bottomLeft])\n",
    "            \n",
    "            # 변환 후 영상에 사용할 서류의 폭과 높이 계산 ---③ \n",
    "            w1 = abs(bottomRight[0] - bottomLeft[0])    # 상단 좌우 좌표간의 거리\n",
    "            w2 = abs(topRight[0] - topLeft[0])          # 하당 좌우 좌표간의 거리\n",
    "            h1 = abs(topRight[1] - bottomRight[1])      # 우측 상하 좌표간의 거리\n",
    "            h2 = abs(topLeft[1] - bottomLeft[1])        # 좌측 상하 좌표간의 거리\n",
    "            width = max([w1, w2])                       # 두 좌우 거리간의 최대값이 서류의 폭\n",
    "            height = max([h1, h2])                      # 두 상하 거리간의 최대값이 서류의 높이\n",
    "            \n",
    "            print(pts1)\n",
    "            print(width, height)\n",
    "            # 변환 후 4개 좌표\n",
    "            pts2 = np.float32([\n",
    "                [0,0], [width,0], [width,height], [0,height]\n",
    "            ])\n",
    "            \n",
    "            # 변환 행렬 계산 \n",
    "            mtrx = cv2.getPerspectiveTransform(pts1, pts2)\n",
    "            # 원근 변환 적용\n",
    "            result = cv2.warpPerspective(img, mtrx, (int(width), int(height)))\n",
    "            cv2.imshow('scanned', result)\n",
    "\n",
    "cv2.imshow(win_name, img)\n",
    "cv2.setMouseCallback(win_name, onMouse)    # 마우스 콜백 함수를 GUI 윈도우에 등록 ---④\n",
    "cv2.waitKey(0)\n",
    "cv2.destroyAllWindows()"
   ]
  }
 ],
 "metadata": {
  "kernelspec": {
   "display_name": "cnai",
   "language": "python",
   "name": "python3"
  },
  "language_info": {
   "codemirror_mode": {
    "name": "ipython",
    "version": 3
   },
   "file_extension": ".py",
   "mimetype": "text/x-python",
   "name": "python",
   "nbconvert_exporter": "python",
   "pygments_lexer": "ipython3",
   "version": "3.9.16"
  },
  "orig_nbformat": 4
 },
 "nbformat": 4,
 "nbformat_minor": 2
}
